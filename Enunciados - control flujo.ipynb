{
 "cells": [
  {
   "cell_type": "markdown",
   "metadata": {},
   "source": [
    "# Tema 03: Control de flujo (Enunciados)\n",
    "*Nota: Estos ejercicios son optativos para hacer al final de la unidad y están pensados para apoyar tu aprendizaje*."
   ]
  },
  {
   "cell_type": "markdown",
   "metadata": {},
   "source": [
    "**1) Realiza un programa que lea dos números por teclado y permita elegir entre 3 opciones en un menú:** \n",
    "* Mostrar una suma de los dos números\n",
    "* Mostrar una resta de los dos números (el primero menos el segundo)\n",
    "* Mostrar una multiplicación de los dos números\n",
    "* En caso de no introducir una opción válida, el programa informará de que no es correcta."
   ]
  },
  {
   "cell_type": "code",
   "execution_count": 2,
   "metadata": {},
   "outputs": [
    {
     "name": "stdin",
     "output_type": "stream",
     "text": [
      "Introduce el primer Numero 2\n",
      "Introduce el segundo Numero 3\n"
     ]
    },
    {
     "name": "stdout",
     "output_type": "stream",
     "text": [
      " === Mini Calculadora ===\n",
      " 1. Suma\n",
      " 2. Resta( P1-P2)\n",
      " 3. Multiplicacion\n",
      " 4. Salir Calculadora\n"
     ]
    },
    {
     "name": "stdin",
     "output_type": "stream",
     "text": [
      "Elige una opcion 1 / 2 / 3 / 4  3\n"
     ]
    },
    {
     "name": "stdout",
     "output_type": "stream",
     "text": [
      "Resultado:  6.0\n",
      "¿Quieres hacer otra operacion?Y/N\n"
     ]
    },
    {
     "name": "stdin",
     "output_type": "stream",
     "text": [
      " y\n"
     ]
    },
    {
     "name": "stdout",
     "output_type": "stream",
     "text": [
      " === Mini Calculadora ===\n",
      " 1. Suma\n",
      " 2. Resta( P1-P2)\n",
      " 3. Multiplicacion\n",
      " 4. Salir Calculadora\n"
     ]
    },
    {
     "name": "stdin",
     "output_type": "stream",
     "text": [
      "Elige una opcion 1 / 2 / 3 / 4  1\n"
     ]
    },
    {
     "name": "stdout",
     "output_type": "stream",
     "text": [
      "Resultado:  5.0\n",
      "¿Quieres hacer otra operacion?Y/N\n"
     ]
    },
    {
     "name": "stdin",
     "output_type": "stream",
     "text": [
      " n\n"
     ]
    }
   ],
   "source": [
    "# Completa el ejercicio aquí\n",
    "\n",
    "primerNumero = float(input(\"Introduce el primer Numero\"))\n",
    "segundoNumero = float(input(\"Introduce el segundo Numero\"))\n",
    "\n",
    "escoger = \"\"\n",
    "resultado = 0\n",
    "\n",
    "opcionValida = False\n",
    "\n",
    "while(opcionValida == False):\n",
    "    print(\" === Mini Calculadora ===\")\n",
    "    print(\" 1. Suma\")\n",
    "    print(\" 2. Resta( P1-P2)\")\n",
    "    print(\" 3. Multiplicacion\")\n",
    "    print(\" 4. Salir Calculadora\")\n",
    "    escoger = str(input(\"Elige una opcion 1 / 2 / 3 / 4 \")).strip()\n",
    "    if escoger == '1':\n",
    "        resultado = primerNumero + segundoNumero\n",
    "        print(\"Resultado: \",resultado)\n",
    "        print(\"¿Quieres hacer otra operacion?Y/N\")\n",
    "        escoger = str(input()).strip().lower()\n",
    "        if escoger == 'y':\n",
    "            opcionValida = False\n",
    "        else:\n",
    "            opcionValida = True\n",
    "    elif escoger == '2':\n",
    "        resultado = primerNumero - segundoNumero\n",
    "        print(\"Resultado: \",resultado)\n",
    "        print(\"¿Quieres hacer otra operacion?Y/N\")\n",
    "        escoger = str(input()).strip().lower()\n",
    "        if escoger == 'y':\n",
    "            opcionValida = False\n",
    "        else:\n",
    "            opcionValida = True\n",
    "    elif escoger == '3':\n",
    "        resultado = primerNumero*segundoNumero\n",
    "        print(\"Resultado: \",resultado)\n",
    "        print(\"¿Quieres hacer otra operacion?Y/N\")\n",
    "        escoger = str(input()).strip().lower()\n",
    "        if escoger == 'y':\n",
    "            opcionValida = False\n",
    "        else:\n",
    "            opcionValida = True\n",
    "    elif escoger == '4':\n",
    "        print(\"Saliste del Programa Calculadora\")\n",
    "        opcionValida == True\n",
    "    else:\n",
    "        print(\"Introduce una opción valida 1 / 2 / 3 / 4\")\n",
    "        opcionValida == False\n",
    "        \n",
    "        \n",
    "    \n"
   ]
  },
  {
   "cell_type": "markdown",
   "metadata": {},
   "source": [
    "**2) Realiza un programa que lea un número impar por teclado. Si el usuario no introduce un número impar, debe repetise el proceso hasta que lo introduzca correctamente.**"
   ]
  },
  {
   "cell_type": "code",
   "execution_count": 12,
   "metadata": {},
   "outputs": [
    {
     "name": "stdin",
     "output_type": "stream",
     "text": [
      "Introduce un numero Impar 8\n"
     ]
    },
    {
     "name": "stdout",
     "output_type": "stream",
     "text": [
      "Por favor, introduce un numero Impar\n"
     ]
    },
    {
     "name": "stdin",
     "output_type": "stream",
     "text": [
      "Introduce un numero Impar 9\n"
     ]
    },
    {
     "name": "stdout",
     "output_type": "stream",
     "text": [
      "Enhorabuena es un numero Impar\n"
     ]
    }
   ],
   "source": [
    "# Completa el ejercicio aquí\n",
    "impar=False\n",
    "\n",
    "while not impar:\n",
    "    numero = int(input(\"Introduce un numero Impar\"))\n",
    "    if numero % 2 != 0:\n",
    "        print(\"Enhorabuena es un numero Impar\")\n",
    "        impar=True\n",
    "    else:\n",
    "        print(\"Por favor, introduce un numero Impar\")\n",
    "    \n"
   ]
  },
  {
   "cell_type": "markdown",
   "metadata": {},
   "source": [
    "**3) Realiza un programa que sume todos los números enteros pares desde el 0 hasta el 100:**\n",
    "\n",
    "*Sugerencia: Puedes utilizar la funciones sum() y range() para hacerlo más fácil. El tercer parámetro en la función range(inicio, fin, salto) indica un salto de números, pruébalo.*"
   ]
  },
  {
   "cell_type": "code",
   "execution_count": 14,
   "metadata": {},
   "outputs": [
    {
     "name": "stdout",
     "output_type": "stream",
     "text": [
      "2550\n"
     ]
    }
   ],
   "source": [
    "# Completa el ejercicio aquí\n",
    "# El rango de inicio tiene que ser del 0 al 101 para que se incluya el 100.\n",
    "resultado=sum(range(0,101,2))\n",
    "print(resultado)\n"
   ]
  },
  {
   "cell_type": "markdown",
   "metadata": {},
   "source": [
    "**4) Realiza un programa que pida al usuario cuantos números quiere introducir. Luego lee todos los números y realiza una media aritmética:**\n"
   ]
  },
  {
   "cell_type": "code",
   "execution_count": 18,
   "metadata": {},
   "outputs": [
    {
     "name": "stdin",
     "output_type": "stream",
     "text": [
      "Cantidad de numeros que quieres introducir 4\n",
      "Introduce el numero: 1 10\n",
      "Introduce el numero: 2 5\n",
      "Introduce el numero: 3 5\n",
      "Introduce el numero: 4 5\n"
     ]
    },
    {
     "name": "stdout",
     "output_type": "stream",
     "text": [
      "Media Aritmética:  6.25\n"
     ]
    }
   ],
   "source": [
    "# Completa el ejercicio aquí\n",
    "\n",
    "cantidad = int(input(\"Cantidad de numeros que quieres introducir\"))\n",
    "suma = 0 \n",
    "for i in range(cantidad):\n",
    "    numero = float(input(f\"Introduce el numero: {i+1}\"))\n",
    "    suma += numero\n",
    "\n",
    "resultado = suma/cantidad\n",
    "print(\"Media Aritmética: \",resultado)\n",
    "    \n",
    "\n",
    "\n"
   ]
  },
  {
   "cell_type": "markdown",
   "metadata": {},
   "source": [
    "**5) Realiza un programa que pida al usuario un número entero del 0 al 9, y que mientras el número no sea correcto se repita el proceso. Luego debe comprobar si el número se encuentra en la lista de números y notificarlo:**\n",
    "\n",
    "*Consejo: La sintaxis \"valor in lista\" permite comprobar fácilmente si un valor se encuentra en una lista (devuelve True o False)*"
   ]
  },
  {
   "cell_type": "code",
   "execution_count": 20,
   "metadata": {},
   "outputs": [
    {
     "name": "stdin",
     "output_type": "stream",
     "text": [
      "Introduce un numero entero del 0 al 9 5\n"
     ]
    },
    {
     "name": "stdout",
     "output_type": "stream",
     "text": [
      "Numero introducido, satisfactoriamente\n",
      "El numero 5 se encuentra en la lista {3, 4, 5, 6}\n"
     ]
    }
   ],
   "source": [
    "# Completa el ejercicio aquí\n",
    "correcto = False\n",
    "\n",
    "listaNumerosCorrectos = {0,1,2,3,4,5,6,7,8,9}\n",
    "listaComprobar = {3,4,5,6}\n",
    "while not correcto:\n",
    "    numero = int(input(\"Introduce un numero entero del 0 al 9\"))\n",
    "    if numero in listaNumerosCorrectos:\n",
    "        print(\"Numero introducido, satisfactoriamente\")\n",
    "        correcto = True\n",
    "    else:\n",
    "        print(\"Introduce un numero correcto\")\n",
    "\n",
    "    if numero in listaComprobar:\n",
    "        print(f\"El numero {numero} se encuentra en la lista {listaComprobar}\")\n",
    "    else:\n",
    "        print(f\"El numero {numero} no se encuentra en la lista {listaComprobar}\")\n",
    "        \n",
    "        \n",
    "\n",
    "    "
   ]
  },
  {
   "cell_type": "code",
   "execution_count": null,
   "metadata": {},
   "outputs": [],
   "source": []
  },
  {
   "cell_type": "markdown",
   "metadata": {},
   "source": [
    "**6) Utilizando la función range() y la conversión a listas genera las siguientes listas dinámicamente:**\n",
    "* Todos los números del 0 al 10 [0, 1, 2, ..., 10]\n",
    "* Todos los números del -10 al 0 [-10, -9, -8, ..., 0]\n",
    "* Todos los números pares del 0 al 20 [0, 2, 4, ..., 20]\n",
    "* Todos los números impares entre -20 y 0 [-19, -17, -15, ..., -1]\n",
    "* Todos los números múltiples de 5 del 0 al 50 [0, 5, 10, ..., 50]\n",
    "\n",
    "*Pista: Utiliza el tercer parámetro de la función range(inicio, fin, salto).*"
   ]
  },
  {
   "cell_type": "code",
   "execution_count": 23,
   "metadata": {},
   "outputs": [
    {
     "name": "stdout",
     "output_type": "stream",
     "text": [
      "[0, 1, 2, 3, 4, 5, 6, 7, 8, 9, 10]\n",
      "[-10, -9, -8, -7, -6, -5, -4, -3, -2, -1, 0]\n",
      "[0, 2, 4, 6, 8, 10, 12, 14, 16, 18, 20]\n",
      "[-19, -17, -15, -13, -11, -9, -7, -5, -3, -1]\n",
      "[0, 5, 10, 15, 20, 25, 30, 35, 40, 45, 50]\n"
     ]
    }
   ],
   "source": [
    "# Completa el ejercicio\n",
    "print(list(range(0,11)))\n",
    "print(list(range(-10,1,1)))\n",
    "print(list(range(0,21,2)))\n",
    "print(list(range(-19,1,2)))\n",
    "print(list(range(0,51,5)))\n",
    "\n",
    "\n",
    "\n"
   ]
  },
  {
   "cell_type": "code",
   "execution_count": null,
   "metadata": {},
   "outputs": [],
   "source": [
    "print(list(range(0,11)))#---Todos los números del 0 al 10\n",
    "print(list(range(-10,1,1)))#---Todos los números del -10 al 0\n",
    "print(list(range(0,21,2)))#---Todos los números pares del 0 al 20\n",
    "print(list(range(-19,1,2)))#---Todos los números impares entre -20 y 0\n",
    "print(list(range(0,51,5)))#---Todos los números múltiples de 5 del 0 al 50"
   ]
  },
  {
   "cell_type": "markdown",
   "metadata": {},
   "source": [
    "**7) Dadas dos listas, debes generar una tercera con todos los elementos que se repitan en ellas, pero no debe repetise ningún elemento en la nueva lista:**"
   ]
  },
  {
   "cell_type": "code",
   "execution_count": 30,
   "metadata": {},
   "outputs": [
    {
     "name": "stdout",
     "output_type": "stream",
     "text": [
      "[1, 3, 5, 7, 9, 10]\n"
     ]
    }
   ],
   "source": [
    "# Completa el ejercicio aquí\n",
    "\n",
    "primeraLista = [1,3,5,7,9,10,11,34,67,89]\n",
    "segundaLista = [1,2,3,4,5,6,7,8,9,10]\n",
    "\n",
    "terceraLista = []\n",
    "\n",
    "for i in primeraLista:\n",
    "    if i in segundaLista:\n",
    "        terceraLista.append(i)\n",
    "print(terceraLista)\n",
    "\n",
    "\n",
    "\n"
   ]
  },
  {
   "cell_type": "code",
   "execution_count": null,
   "metadata": {},
   "outputs": [],
   "source": []
  }
 ],
 "metadata": {
  "anaconda-cloud": {},
  "kernelspec": {
   "display_name": "Python 3 (ipykernel)",
   "language": "python",
   "name": "python3"
  },
  "language_info": {
   "codemirror_mode": {
    "name": "ipython",
    "version": 3
   },
   "file_extension": ".py",
   "mimetype": "text/x-python",
   "name": "python",
   "nbconvert_exporter": "python",
   "pygments_lexer": "ipython3",
   "version": "3.8.20"
  }
 },
 "nbformat": 4,
 "nbformat_minor": 4
}
