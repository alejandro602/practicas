{
 "cells": [
  {
   "cell_type": "markdown",
   "metadata": {},
   "source": [
    "# Tema 02: Operadores y expresiones (Enunciados)\n",
    "*Nota: Estos ejercicios son optativos para hacer al final de la unidad y están pensados para apoyar tu aprendizaje*."
   ]
  },
  {
   "cell_type": "markdown",
   "metadata": {},
   "source": [
    "**1) Realiza un programa que lea 2 números por teclado y determine los siguientes aspectos (es suficiene con mostrar True o False):**\n",
    "* Si los dos números son iguales\n",
    "* Si los dos números son diferentes\n",
    "* Si el primero es mayor que el segundo\n",
    "* Si el segundo es mayor o igual que el primero"
   ]
  },
  {
   "cell_type": "code",
   "execution_count": 2,
   "metadata": {},
   "outputs": [
    {
     "name": "stdin",
     "output_type": "stream",
     "text": [
      "Introduce el primer Numero 2\n",
      "Introduce el segundo Numero 2\n"
     ]
    },
    {
     "name": "stdout",
     "output_type": "stream",
     "text": [
      "Son los dos números iguales:  True\n",
      "Son los dos números diferentes:  False\n",
      "El primero es mayor que el segundo:  False\n",
      "El segundo es mayor que el primero:  False\n"
     ]
    }
   ],
   "source": [
    "# Completa el ejercicio aquí\n",
    "primerNumero = int(input(\"Introduce el primer Numero\"))\n",
    "segundoNumero = int(input(\"Introduce el segundo Numero\"))\n",
    "print(\"Son los dos números iguales: \", primerNumero == segundoNumero)\n",
    "print(\"Son los dos números diferentes: \", primerNumero != segundoNumero)\n",
    "print(\"El primero es mayor que el segundo: \", primerNumero > segundoNumero)\n",
    "print(\"El segundo es mayor que el primero: \", primerNumero < segundoNumero)"
   ]
  },
  {
   "cell_type": "markdown",
   "metadata": {},
   "source": [
    "**2) Utilizando operadores lógicos, determina si una cadena de texto introducida por el usuario tiene una longitud mayor o igual que 3 y a su vez es menor que 10 (es suficiene con mostrar True o False):**"
   ]
  },
  {
   "cell_type": "code",
   "execution_count": 4,
   "metadata": {},
   "outputs": [
    {
     "name": "stdin",
     "output_type": "stream",
     "text": [
      "Introduce una cadena de texto Hola\n"
     ]
    },
    {
     "name": "stdout",
     "output_type": "stream",
     "text": [
      "True\n"
     ]
    }
   ],
   "source": [
    "# Completa el ejercicio aquí\n",
    "resultado = False\n",
    "cadena=str(input(\"Introduce una cadena de texto\"))\n",
    "if len(cadena) >= 3 and len(cadena) < 10:   \n",
    "     resultado = True\n",
    "else:\n",
    "    resultado = False\n",
    "\n",
    "print(resultado)\n",
    "\n"
   ]
  },
  {
   "cell_type": "markdown",
   "metadata": {},
   "source": [
    "**3) Realiza un programa que cumpla el siguiente algoritmo utilizando siempre que sea posible operadores en asignación:**\n",
    "* Guarda en una variable numero_magico el valor 12345679 (sin el 8)\n",
    "* Lee por pantalla otro numero_usuario, especifica que sea entre 1 y 9 (asegúrate que es un número)\n",
    "* Multiplica el numero_usuario por 9 en sí mismo\n",
    "* Multiplica el numero_magico por el numero_usuario en sí mismo\n",
    "* Finalmente muestra el valor final del numero_magico por pantalla\n"
   ]
  },
  {
   "cell_type": "code",
   "execution_count": 7,
   "metadata": {},
   "outputs": [
    {
     "name": "stdin",
     "output_type": "stream",
     "text": [
      "Introduce un numero del 1-9 8\n"
     ]
    },
    {
     "name": "stdout",
     "output_type": "stream",
     "text": [
      "Este es el numero_magico:  888888888\n"
     ]
    }
   ],
   "source": [
    "# Completa el ejercicio aquí\n",
    "\n",
    "numero_magico = 12345679\n",
    "correcto = False\n",
    "while not correcto:\n",
    "    numero_usuario = int(input(\"Introduce un numero del 1-9\"))\n",
    "    if numero_usuario in range(1,9):\n",
    "        correcto = True\n",
    "    else:\n",
    "        print(\"Por favor, introduce un numero en el rango 1-9\")\n",
    "\n",
    "numero_usuario = numero_usuario*9\n",
    "\n",
    "numero_magico = numero_magico*numero_usuario\n",
    "\n",
    "print(\"Este es el numero_magico: \", numero_magico)\n"
   ]
  },
  {
   "cell_type": "code",
   "execution_count": null,
   "metadata": {},
   "outputs": [],
   "source": []
  }
 ],
 "metadata": {
  "anaconda-cloud": {},
  "kernelspec": {
   "display_name": "Python 3 (ipykernel)",
   "language": "python",
   "name": "python3"
  },
  "language_info": {
   "codemirror_mode": {
    "name": "ipython",
    "version": 3
   },
   "file_extension": ".py",
   "mimetype": "text/x-python",
   "name": "python",
   "nbconvert_exporter": "python",
   "pygments_lexer": "ipython3",
   "version": "3.8.20"
  }
 },
 "nbformat": 4,
 "nbformat_minor": 4
}
